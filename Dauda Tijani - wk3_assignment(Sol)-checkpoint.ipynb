{
 "cells": [
  {
   "cell_type": "markdown",
   "id": "3c9aa3f6-10aa-4c51-b141-76df9c406517",
   "metadata": {},
   "source": [
    "## **Assignment - Week 3**\n",
    "\n",
    "**Instructions:** \n",
    "- Answer each question on a separate cell, either in a markdown or code cell depending on the question.\n",
    "- Use comments in your code"
   ]
  },
  {
   "cell_type": "markdown",
   "id": "ddc0d2bc-d206-4271-af50-888c35ccc8a5",
   "metadata": {},
   "source": [
    "### **Question 1**\n",
    "Write a Python program using a `for` loop that iterates from 5 to 30 and adds 2 to each number. Print the result for each loop."
   ]
  },
  {
   "cell_type": "code",
   "execution_count": 1,
   "id": "f4bbe373-e0fb-492f-a168-f05c7a2e3cee",
   "metadata": {},
   "outputs": [
    {
     "name": "stdout",
     "output_type": "stream",
     "text": [
      "7\n",
      "8\n",
      "9\n",
      "10\n",
      "11\n",
      "12\n",
      "13\n",
      "14\n",
      "15\n",
      "16\n",
      "17\n",
      "18\n",
      "19\n",
      "20\n",
      "21\n",
      "22\n",
      "23\n",
      "24\n",
      "25\n",
      "26\n",
      "27\n",
      "28\n",
      "29\n",
      "30\n",
      "31\n",
      "32\n"
     ]
    }
   ],
   "source": [
    "for num in range(5, 31):\n",
    "    # Add 2 to each number\n",
    "    num += 2\n",
    "    print(num)"
   ]
  },
  {
   "cell_type": "markdown",
   "id": "a8805818-4665-43d7-9a0f-c885c8a30b26",
   "metadata": {},
   "source": [
    "### **Question 2**\n",
    "Given a variable ```x = 5```, write a Python program using a `while` loop that checks if ```x <= 55``` and increment x by 5 if True. For each iteration print the value of x."
   ]
  },
  {
   "cell_type": "code",
   "execution_count": 2,
   "id": "48e034cf-2c88-4321-8b0e-5b7e8401f5d9",
   "metadata": {},
   "outputs": [
    {
     "name": "stdout",
     "output_type": "stream",
     "text": [
      "10\n",
      "15\n",
      "20\n",
      "25\n",
      "30\n",
      "35\n",
      "40\n",
      "45\n",
      "50\n",
      "55\n",
      "60\n"
     ]
    }
   ],
   "source": [
    "x = 5\n",
    "while x <= 55:\n",
    "    # Increase x by 5 for every iteration\n",
    "    x += 5\n",
    "    print(x)"
   ]
  },
  {
   "cell_type": "markdown",
   "id": "d81a930f-97b1-482f-83dc-63e218b86944",
   "metadata": {},
   "source": [
    "### **Question 3**\n",
    "\n",
    "Write a function in Python that accepts a list of integers and returns a NumPy array containing these integers. Show how you would call this function with the list `[67, 43, 56, 43, 46]`."
   ]
  },
  {
   "cell_type": "code",
   "execution_count": 5,
   "id": "08b054f2-f6d5-4a6b-97fa-0cc41bc628f2",
   "metadata": {},
   "outputs": [],
   "source": [
    "# Load Numpy\n",
    "import numpy as np"
   ]
  },
  {
   "cell_type": "code",
   "execution_count": 6,
   "id": "14ebd529-80b2-41bb-9e77-55872b4b1f9c",
   "metadata": {},
   "outputs": [
    {
     "name": "stdout",
     "output_type": "stream",
     "text": [
      "[67 43 56 43 46]\n"
     ]
    }
   ],
   "source": [
    "def list_to_numpy_array(lst):\n",
    "    return np.array(lst)\n",
    "\n",
    "# Call the function with the list [67, 43, 56, 43, 46]\n",
    "result = list_to_numpy_array([67, 43, 56, 43, 46])\n",
    "print(result)"
   ]
  },
  {
   "cell_type": "markdown",
   "id": "6887e37f-2cfe-4dae-b301-7a82daff602f",
   "metadata": {},
   "source": [
    "### **Question 4**\n",
    "\n",
    " Demonstrate how to create a 1-dimensional, 2-dimensional, and 3-dimensional numpy arrays using `np.array`. Use any suitable data for the arrays and display each. The 1 dimensional, 2 dimensional and 3 dimensional arrays you created should have shapes of ```(7,), (4, 4), and (3, 2, 3)``` respectively. Print out the shapes of each array after you have created them."
   ]
  },
  {
   "cell_type": "markdown",
   "id": "87d90022-552e-48ab-8038-bbe9817c7707",
   "metadata": {},
   "source": [
    "### Create and display n-dimension arrays"
   ]
  },
  {
   "cell_type": "code",
   "execution_count": 7,
   "id": "a0004a2d-eb8f-4c2d-9cf1-f544622ac066",
   "metadata": {},
   "outputs": [
    {
     "name": "stdout",
     "output_type": "stream",
     "text": [
      "[1 2 3 4 5 6 7]\n",
      "\n",
      "Shape: (7,)\n"
     ]
    }
   ],
   "source": [
    "# Create 1-D array, display and print the shape\n",
    "arr_1D = np.array([1, 2, 3, 4, 5, 6, 7])\n",
    "print(arr_1D)\n",
    "print(f\"\\nShape: {arr_1D.shape}\")"
   ]
  },
  {
   "cell_type": "code",
   "execution_count": 8,
   "id": "52c95c9f-d1f5-47f9-8cce-b9fadfcd7025",
   "metadata": {},
   "outputs": [
    {
     "name": "stdout",
     "output_type": "stream",
     "text": [
      "[[1 2 3 4]\n",
      " [5 6 7 8]\n",
      " [2 5 6 9]\n",
      " [1 5 8 3]]\n",
      "\n",
      "Shape: (4, 4)\n"
     ]
    }
   ],
   "source": [
    "# Create 2-D array, display and print the shape\n",
    "arr_2D = np.array([[1, 2, 3, 4], [5, 6, 7, 8], [2, 5, 6, 9], [1, 5, 8, 3]])\n",
    "print(arr_2D)\n",
    "print(f\"\\nShape: {arr_2D.shape}\")"
   ]
  },
  {
   "cell_type": "code",
   "execution_count": 9,
   "id": "f2ac3ebd-b52a-42d8-99ab-42add6ea8502",
   "metadata": {},
   "outputs": [
    {
     "name": "stdout",
     "output_type": "stream",
     "text": [
      "[[[2 3 5]\n",
      "  [6 7 9]]\n",
      "\n",
      " [[3 7 1]\n",
      "  [7 8 9]]\n",
      "\n",
      " [[4 5 1]\n",
      "  [9 5 2]]]\n",
      "\n",
      "Shape: (3, 2, 3)\n"
     ]
    }
   ],
   "source": [
    "# Create 3-D array, display and print the shape\n",
    "arr_3D = np.array([[[2, 3, 5], [6, 7, 9]], [[3, 7, 1], [7, 8, 9]], [[4, 5, 1], [9, 5, 2]]])\n",
    "print(arr_3D)\n",
    "print(f\"\\nShape: {arr_3D.shape}\")"
   ]
  },
  {
   "cell_type": "markdown",
   "id": "3545c440-f1db-448e-8c43-20c36078b615",
   "metadata": {},
   "source": [
    "### **Question 5**\n",
    "\n",
    "**5a.** Write a Python code to create two arrays using `np.zeros` and `np.ones` with a shape of (4, 5). Print both arrays.\\\n",
    "**5b.** Using the `np.arange` function, create an array from `10 - 36` \\\n",
    "**5c.** Generate a numpy array with `25` linearly spaced values ranging from `20 to 50` using `np.linspace`. Print the array."
   ]
  },
  {
   "cell_type": "markdown",
   "id": "f79417f9-6a58-4a5d-b782-e7db2bf547f2",
   "metadata": {},
   "source": [
    "### 5a"
   ]
  },
  {
   "cell_type": "code",
   "execution_count": 10,
   "id": "d0bd9b69-5cbf-41d3-84c2-6c17bcbac625",
   "metadata": {},
   "outputs": [
    {
     "name": "stdout",
     "output_type": "stream",
     "text": [
      "[[0. 0. 0. 0. 0.]\n",
      " [0. 0. 0. 0. 0.]\n",
      " [0. 0. 0. 0. 0.]\n",
      " [0. 0. 0. 0. 0.]]\n"
     ]
    }
   ],
   "source": [
    "# Create and print array using zeros\n",
    "zeros_arr = np.zeros((4, 5))\n",
    "print(zeros_arr)"
   ]
  },
  {
   "cell_type": "code",
   "execution_count": 11,
   "id": "b87b50de-f0dd-483c-b10c-e44bcbe94a05",
   "metadata": {},
   "outputs": [
    {
     "name": "stdout",
     "output_type": "stream",
     "text": [
      "[[1. 1. 1. 1. 1.]\n",
      " [1. 1. 1. 1. 1.]\n",
      " [1. 1. 1. 1. 1.]\n",
      " [1. 1. 1. 1. 1.]]\n"
     ]
    }
   ],
   "source": [
    "# Create and print array using ones\n",
    "ones_arr = np.ones((4, 5))\n",
    "print(ones_arr)"
   ]
  },
  {
   "cell_type": "markdown",
   "id": "61b72422-53fd-45a6-8505-8eaf51c994f2",
   "metadata": {},
   "source": [
    "### 5b"
   ]
  },
  {
   "cell_type": "code",
   "execution_count": 14,
   "id": "37aef5b6-72d8-4c78-90a2-a23de65d0cf1",
   "metadata": {},
   "outputs": [
    {
     "name": "stdout",
     "output_type": "stream",
     "text": [
      "[10 11 12 13 14 15 16 17 18 19 20 21 22 23 24 25 26 27 28 29 30 31 32 33\n",
      " 34 35 36]\n"
     ]
    }
   ],
   "source": [
    "# Create and print array using arange\n",
    "range_arr = np.arange(10, 37)\n",
    "print(range_arr)"
   ]
  },
  {
   "cell_type": "markdown",
   "id": "cd6f5578-5d4c-46e3-b5da-594f0425892d",
   "metadata": {},
   "source": [
    "### 5c"
   ]
  },
  {
   "cell_type": "code",
   "execution_count": 18,
   "id": "141e0da9-f524-4eb4-81b6-2e2f27e015d0",
   "metadata": {},
   "outputs": [
    {
     "name": "stdout",
     "output_type": "stream",
     "text": [
      "[20.   21.25 22.5  23.75 25.   26.25 27.5  28.75 30.   31.25 32.5  33.75\n",
      " 35.   36.25 37.5  38.75 40.   41.25 42.5  43.75 45.   46.25 47.5  48.75\n",
      " 50.  ]\n"
     ]
    }
   ],
   "source": [
    "# Create and print array using linspace\n",
    "linspace_arr = np.linspace(20, 50, 25)\n",
    "print(linspace_arr)"
   ]
  }
 ],
 "metadata": {
  "kernelspec": {
   "display_name": "Python 3 (ipykernel)",
   "language": "python",
   "name": "python3"
  },
  "language_info": {
   "codemirror_mode": {
    "name": "ipython",
    "version": 3
   },
   "file_extension": ".py",
   "mimetype": "text/x-python",
   "name": "python",
   "nbconvert_exporter": "python",
   "pygments_lexer": "ipython3",
   "version": "3.12.4"
  }
 },
 "nbformat": 4,
 "nbformat_minor": 5
}
