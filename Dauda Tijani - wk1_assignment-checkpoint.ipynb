{
 "cells": [
  {
   "cell_type": "markdown",
   "id": "1ecf3a4d-dbf7-457c-af08-31541558a84c",
   "metadata": {},
   "source": [
    "# Assignment - Python Programming Basics\n",
    "\n",
    "**Instruction:** Answer each question on a separate cell, either in a markdown or code cell depending on the question. "
   ]
  },
  {
   "cell_type": "markdown",
   "id": "488e215b-e99a-4c74-9f87-fff4a6665b4e",
   "metadata": {
    "jp-MarkdownHeadingCollapsed": true
   },
   "source": [
    "## Question 1\n",
    "\n",
    "1. Why is consistent indentation important in Python, and what error does Python throw if the indentation in inconsistent?\n",
    "\n",
    "   "
   ]
  },
  {
   "cell_type": "code",
   "execution_count": null,
   "id": "3417ed63-22ae-4357-8327-d34f9706fac3",
   "metadata": {},
   "outputs": [],
   "source": [
    "## Question 1 Solution\n",
    "Consistent indentation is crucial in Python because it defines codes blocks and inconsistent indentation leads to IndentationError, which occurs when Python encounters an inconsistent use of indentation, making it difficult to interpret the code structure."
   ]
  },
  {
   "cell_type": "markdown",
   "id": "8bbca766-02b7-4e40-879c-5a4e7230544e",
   "metadata": {
    "jp-MarkdownHeadingCollapsed": true
   },
   "source": [
    "## Question 2\n",
    "\n",
    "2. What are the mutable and immutable data types in Python? Give two examples of each.\n"
   ]
  },
  {
   "cell_type": "code",
   "execution_count": null,
   "id": "988ae2f9-1be8-4048-b202-ad694ee4fe58",
   "metadata": {},
   "outputs": [],
   "source": [
    "## Question 2 Solution\n",
    "Mutable data types are the data types that the values can be changed after it has been created. Examples are List and Dictionary.\n",
    "Immutable data types are the data types that the values cannot be changed after it has been created. Examples are String and Tuple "
   ]
  },
  {
   "cell_type": "markdown",
   "id": "2ae53fff-015a-43de-84b3-b68bc43c7816",
   "metadata": {
    "jp-MarkdownHeadingCollapsed": true
   },
   "source": [
    "## Question 3\n",
    "\n",
    "3. How do you convert a floating-point number to an integer, and what happenss to the fractional part after conversion?\n",
    "   "
   ]
  },
  {
   "cell_type": "code",
   "execution_count": null,
   "id": "b20dcc62-a918-4ef2-ac85-e4c0b4960791",
   "metadata": {},
   "outputs": [],
   "source": [
    "## Question 3 Solution \n",
    "- The floating-point number will be wrapped in integer object as shown in the cell below.\n",
    "- The fractional part of the floating-point number get **discarded** after the conversion."
   ]
  },
  {
   "cell_type": "code",
   "execution_count": null,
   "id": "9e1deec6-9192-4289-a18f-3a1ac295c566",
   "metadata": {},
   "outputs": [],
   "source": [
    "float_num = 4.5677\n",
    "int_num = int(float_num)\n",
    "print(int_num)"
   ]
  },
  {
   "cell_type": "markdown",
   "id": "af69f1d7-f8cd-4f60-b81a-e5b29c278e9a",
   "metadata": {
    "jp-MarkdownHeadingCollapsed": true
   },
   "source": [
    "## Question 4\n",
    "\n",
    "4. What is the difference between a list and a tuple?\n"
   ]
  },
  {
   "cell_type": "markdown",
   "id": "ae09e135-08eb-4637-81a0-a41c08bfad69",
   "metadata": {},
   "source": [
    "A list is mutable while a tuple is immutable."
   ]
  },
  {
   "cell_type": "markdown",
   "id": "bc9300a5-2cfa-48aa-b549-997776f8c944",
   "metadata": {
    "jp-MarkdownHeadingCollapsed": true
   },
   "source": [
    "## Question 5\n",
    "\n",
    "5. print out the datatype for the following variables? \n",
    "   ```python\n",
    "   a = 123\n",
    "   b = [1, 2, 3]\n",
    "   c = \"Python programming Language\"\n",
    "   d = (1, 2, 3)\n",
    "   e = {\"A\": 1, \"B\": 2, \"C\": 3}\n",
    "    ```\n"
   ]
  },
  {
   "cell_type": "code",
   "execution_count": 28,
   "id": "9899fb25-e118-4d34-9a37-4186f8f97c62",
   "metadata": {},
   "outputs": [
    {
     "name": "stdout",
     "output_type": "stream",
     "text": [
      "<class 'int'>\n",
      "<class 'list'>\n",
      "<class 'str'>\n",
      "<class 'tuple'>\n",
      "<class 'dict'>\n"
     ]
    }
   ],
   "source": [
    "## Question 5 Solution\n",
    "a = 123\n",
    "b = [1, 2, 3]\n",
    "c = \"Python programming Language\"\n",
    "d = (1, 2, 3)\n",
    "e = {\"A\": 1, \"B\": 2, \"C\": 3}\n",
    "\n",
    "print(type(a))\n",
    "print(type(b))\n",
    "print(type(c))\n",
    "print(type(d))\n",
    "print(type(e))"
   ]
  },
  {
   "cell_type": "markdown",
   "id": "3a041f8e-cc9a-42e5-923f-394973cbbe63",
   "metadata": {
    "jp-MarkdownHeadingCollapsed": true
   },
   "source": [
    "## Question 6\n",
    "\n",
    "6. What is the difference between a comment and a docstring in Python, and how does Python treat each differently?\n"
   ]
  },
  {
   "cell_type": "code",
   "execution_count": null,
   "id": "fc46b9d9-48ba-4284-aeb1-03c74e07fea9",
   "metadata": {},
   "outputs": [],
   "source": [
    "## Question 6 Solution\n",
    "A comment is a line of code that starts with the **#** symbol while a docstring is a string literal that occurs as the first statement in a module, function, class, or method which is used to document the code.\n",
    "In Python, commments are ignored by the interpreter while docstring are stored in the compiled code and are accessible at runtime. "
   ]
  },
  {
   "cell_type": "code",
   "execution_count": null,
   "id": "c1905ee1-f57b-4a95-94f5-a488a27ce76a",
   "metadata": {
    "jp-MarkdownHeadingCollapsed": true
   },
   "outputs": [],
   "source": [
    "## Question 7\n",
    "\n",
    "7. Do the following conversions and print out their new datatypes (Hint: use the type() function).\n",
    "  - ```1234``` to ```str```\n",
    "  - ```\"iPython\"``` to ```list```\n",
    "  - ```23.5``` to ```int```\n",
    "  - ```45``` to ```float```"
   ]
  },
  {
   "cell_type": "code",
   "execution_count": 20,
   "id": "e6b19c67-9298-4d39-80c7-4e8e2c9f1e3a",
   "metadata": {},
   "outputs": [
    {
     "name": "stdout",
     "output_type": "stream",
     "text": [
      "<class 'str'> \n",
      "<class 'list'> \n",
      "<class 'int'> \n",
      "<class 'float'> \n"
     ]
    }
   ],
   "source": [
    "## Question 7 Solution\n",
    "int_to_str = str(1234)\n",
    "str_to_list = list(\"iPython\")\n",
    "float_to_int = int(23.5)\n",
    "int_to_float = float(45)\n",
    "\n",
    "print(f\"{type(int_to_str)} \\n{type(str_to_list)} \\n{type(float_to_int)} \\n{type(int_to_float)} \")"
   ]
  },
  {
   "cell_type": "markdown",
   "id": "14eb6f93-cddd-4638-aa10-e59714ecdc7c",
   "metadata": {
    "jp-MarkdownHeadingCollapsed": true
   },
   "source": [
    "## Question 8\n",
    "\n",
    "8. Create a dictionary containing the following information (you can just make up the information):\n",
    "    - Name (Use your name here)\n",
    "    - Age\n",
    "    - Sex\n",
    "    - Profession\n",
    "    - Religion\n",
    "    - Nationality\n"
   ]
  },
  {
   "cell_type": "code",
   "execution_count": null,
   "id": "81c01281-d3fc-478b-8881-2276f043f8e6",
   "metadata": {},
   "outputs": [],
   "source": [
    "## Question 8 Solution\n",
    "student_info = {\n",
    "    \"name\": \"Dauda\",\n",
    "    \"age\": 18,\n",
    "    \"sex\": \"male\",\n",
    "    \"profession\": \"educator\",\n",
    "    \"religion\": \"christianity\",\n",
    "    \"nationality\": \"nigerian\"\n",
    "}"
   ]
  },
  {
   "cell_type": "markdown",
   "id": "6ae93d1e-e8f3-444b-b7e0-4d4bebee3dce",
   "metadata": {
    "jp-MarkdownHeadingCollapsed": true
   },
   "source": [
    "## Question 9\n",
    "\n",
    "9. Change the elements at index 3, 6, and 7 of the list ```[24, 56, \"programming\", \"javascript\", 56, 54.3, \"data analytics\", \"Argentina\"]``` to \"python\", \"data science\", and \"Nigeria\" respectfully."
   ]
  },
  {
   "cell_type": "code",
   "execution_count": null,
   "id": "ec93a4de-2afd-4922-923a-0ed8db1b708b",
   "metadata": {},
   "outputs": [],
   "source": [
    "## Question 9 Solution\n",
    "given_list = [24, 56, \"programming\", \"javascript\", 56, 54.3, \"data analytics\", \"Argentina\"]\n",
    "given_list[3] = \"python\"\n",
    "given_list[6] = \"data science\"\n",
    "given_list[7] = \"Nigeria\"\n",
    "print(given_list)"
   ]
  },
  {
   "cell_type": "markdown",
   "id": "997a374c-daf5-4183-81a4-c390a2b59113",
   "metadata": {
    "jp-MarkdownHeadingCollapsed": true
   },
   "source": [
    "## Question 10\n",
    "\n",
    "- Create a list, tuple and set containing 10 elements each, having a mix of integer, float and string datatypes."
   ]
  },
  {
   "cell_type": "code",
   "execution_count": null,
   "id": "74b8dfe0-69a0-4d01-b05e-824e87897801",
   "metadata": {},
   "outputs": [],
   "source": [
    "## Question 10 Solution\n",
    "hypothetical_list = [1, 2.5, \"hello\", 4, 6.7, \"world\", 8, 9.1, \"abc\", 10]\n",
    "hypothetical_tuple = (30, 7.5, 'three', 4, 'five', 64.7, 'eight', 9, 10.1, 'eleven')\n",
    "hypothetical_set = {\"net\", \"curry\", 30, \"club\", \"international\", 50.8, 3, \"africa\", 50.9, 3.8}"
   ]
  }
 ],
 "metadata": {
  "kernelspec": {
   "display_name": "Python 3 (ipykernel)",
   "language": "python",
   "name": "python3"
  },
  "language_info": {
   "codemirror_mode": {
    "name": "ipython",
    "version": 3
   },
   "file_extension": ".py",
   "mimetype": "text/x-python",
   "name": "python",
   "nbconvert_exporter": "python",
   "pygments_lexer": "ipython3",
   "version": "3.12.4"
  }
 },
 "nbformat": 4,
 "nbformat_minor": 5
}
