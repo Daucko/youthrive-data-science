{
 "cells": [
  {
   "cell_type": "markdown",
   "id": "7d519f6d-05bf-4c0b-aee0-15a4bbeccc7f",
   "metadata": {},
   "source": [
    "## **Assignment - Week 4**\n",
    "\n",
    "**Instructions:** \n",
    "- Answer each question on a separate cell, either in a markdown or code cell depending on the question.\n",
    "- Use comments in your code"
   ]
  },
  {
   "cell_type": "markdown",
   "id": "22558b07-8086-4cd5-adbb-3da534823509",
   "metadata": {},
   "source": [
    "## **Question 1**\n",
    "Create a Pandas Series from a list of temperatures: 22, 25, 30, 28, 35, 32, 33 and label the indexes as Monday, Tuesday, Wednesday, Thursday, Friday, Saturday, Sunday and specify the data type to be ```float32```.\\\n",
    "Display the series."
   ]
  },
  {
   "cell_type": "markdown",
   "id": "7289f8c0-f3ee-4a2d-9005-a05fbcb2ba22",
   "metadata": {},
   "source": [
    "#### Load in Pandas and NumPy"
   ]
  },
  {
   "cell_type": "code",
   "execution_count": 5,
   "id": "44be5bd3-d1ac-4330-aac1-47f2ea09ca85",
   "metadata": {},
   "outputs": [],
   "source": [
    "import numpy as np\n",
    "import pandas as pd"
   ]
  },
  {
   "cell_type": "code",
   "execution_count": 76,
   "id": "9985bde5-f236-4251-aaa7-75ba90873895",
   "metadata": {},
   "outputs": [
    {
     "data": {
      "text/plain": [
       "Monday       22.0\n",
       "Tuesday      25.0\n",
       "Wednesday    30.0\n",
       "Thursday     28.0\n",
       "Friday       35.0\n",
       "Saturday     32.0\n",
       "Sunday       33.0\n",
       "dtype: float32"
      ]
     },
     "metadata": {},
     "output_type": "display_data"
    }
   ],
   "source": [
    "# Temperatures info\n",
    "temperatures = [22, 25, 30, 28, 35, 32, 33]\n",
    "\n",
    "# Customized index\n",
    "index = [\"Monday\", \"Tuesday\", \"Wednesday\", \"Thursday\", \"Friday\", \"Saturday\", \"Sunday\"]\n",
    "\n",
    "# Create a Series\n",
    "my_series = pd.Series(temperatures, index=index, dtype=\"float32\")\n",
    "\n",
    "# Display the series\n",
    "display(my_series)"
   ]
  },
  {
   "cell_type": "markdown",
   "id": "7c16e8ce-6089-47d1-a53b-60ac1bdd2764",
   "metadata": {},
   "source": [
    "## **Question 2**\n",
    "Construct a Pandas Series with  20 numbers from 100 to 150 and create an index from 1- 20 using the ```np.arange``` function. Specify the data type to be of ```float64```."
   ]
  },
  {
   "cell_type": "code",
   "execution_count": 18,
   "id": "9e269bef-243b-47b6-a0a4-5903838ed698",
   "metadata": {},
   "outputs": [
    {
     "name": "stdout",
     "output_type": "stream",
     "text": [
      "1     104.0\n",
      "2     100.0\n",
      "3     108.0\n",
      "4     138.0\n",
      "5     150.0\n",
      "6     119.0\n",
      "7     142.0\n",
      "8     114.0\n",
      "9     122.0\n",
      "10    125.0\n",
      "11    117.0\n",
      "12    122.0\n",
      "13    114.0\n",
      "14    109.0\n",
      "15    105.0\n",
      "16    146.0\n",
      "17    137.0\n",
      "18    106.0\n",
      "19    137.0\n",
      "20    106.0\n",
      "dtype: float64\n"
     ]
    }
   ],
   "source": [
    "# Create an array of 20 numbers from 100 to 150 with float64 data type\n",
    "data = np.random.randint(100, 151, size=20)\n",
    "\n",
    "# Create an index from 1 to 20\n",
    "index = np.arange(1, 21)\n",
    "\n",
    "# Construct the Pandas Series\n",
    "series = pd.Series(data, index=index, dtype=\"float64\")\n",
    "\n",
    "print(series)"
   ]
  },
  {
   "cell_type": "markdown",
   "id": "ee1906fe-df08-44cf-b569-5ced7a3daf85",
   "metadata": {},
   "source": [
    "## **Question 3**\n",
    "Create a pandas DataFrame with 10 rows with the following columns:\n",
    "- Name (random names with your name being the first)\n",
    "- State\n",
    "- Age\n",
    "- Weight (in kg)\n",
    "- Gender\n",
    "\n",
    "Display the DataFrame"
   ]
  },
  {
   "cell_type": "code",
   "execution_count": 75,
   "id": "37c84e4f-703c-494d-96f5-b52b727c606a",
   "metadata": {},
   "outputs": [
    {
     "data": {
      "text/html": [
       "<div>\n",
       "<style scoped>\n",
       "    .dataframe tbody tr th:only-of-type {\n",
       "        vertical-align: middle;\n",
       "    }\n",
       "\n",
       "    .dataframe tbody tr th {\n",
       "        vertical-align: top;\n",
       "    }\n",
       "\n",
       "    .dataframe thead th {\n",
       "        text-align: right;\n",
       "    }\n",
       "</style>\n",
       "<table border=\"1\" class=\"dataframe\">\n",
       "  <thead>\n",
       "    <tr style=\"text-align: right;\">\n",
       "      <th></th>\n",
       "      <th>Name</th>\n",
       "      <th>State</th>\n",
       "      <th>Age</th>\n",
       "      <th>Weight (kg)</th>\n",
       "      <th>Gender</th>\n",
       "    </tr>\n",
       "  </thead>\n",
       "  <tbody>\n",
       "    <tr>\n",
       "      <th>0</th>\n",
       "      <td>Dauda</td>\n",
       "      <td>Ogun</td>\n",
       "      <td>30</td>\n",
       "      <td>70.5</td>\n",
       "      <td>Male</td>\n",
       "    </tr>\n",
       "    <tr>\n",
       "      <th>1</th>\n",
       "      <td>Tayo</td>\n",
       "      <td>Osun</td>\n",
       "      <td>24</td>\n",
       "      <td>68.0</td>\n",
       "      <td>Male</td>\n",
       "    </tr>\n",
       "    <tr>\n",
       "      <th>2</th>\n",
       "      <td>Ayo</td>\n",
       "      <td>Ekiti</td>\n",
       "      <td>40</td>\n",
       "      <td>61.0</td>\n",
       "      <td>Male</td>\n",
       "    </tr>\n",
       "    <tr>\n",
       "      <th>3</th>\n",
       "      <td>Richard</td>\n",
       "      <td>Kogi</td>\n",
       "      <td>24</td>\n",
       "      <td>75.2</td>\n",
       "      <td>Male</td>\n",
       "    </tr>\n",
       "    <tr>\n",
       "      <th>4</th>\n",
       "      <td>Nifemi</td>\n",
       "      <td>Ogun</td>\n",
       "      <td>25</td>\n",
       "      <td>60.0</td>\n",
       "      <td>Female</td>\n",
       "    </tr>\n",
       "    <tr>\n",
       "      <th>5</th>\n",
       "      <td>Kingsley</td>\n",
       "      <td>Anambra</td>\n",
       "      <td>35</td>\n",
       "      <td>70.3</td>\n",
       "      <td>Male</td>\n",
       "    </tr>\n",
       "    <tr>\n",
       "      <th>6</th>\n",
       "      <td>Benedict</td>\n",
       "      <td>Edo</td>\n",
       "      <td>32</td>\n",
       "      <td>74.0</td>\n",
       "      <td>Male</td>\n",
       "    </tr>\n",
       "    <tr>\n",
       "      <th>7</th>\n",
       "      <td>Dahiru</td>\n",
       "      <td>Kwara</td>\n",
       "      <td>45</td>\n",
       "      <td>78.1</td>\n",
       "      <td>Male</td>\n",
       "    </tr>\n",
       "    <tr>\n",
       "      <th>8</th>\n",
       "      <td>Oyin</td>\n",
       "      <td>Oyo</td>\n",
       "      <td>15</td>\n",
       "      <td>52.9</td>\n",
       "      <td>Female</td>\n",
       "    </tr>\n",
       "    <tr>\n",
       "      <th>9</th>\n",
       "      <td>Oreofe</td>\n",
       "      <td>Ondo</td>\n",
       "      <td>28</td>\n",
       "      <td>72.7</td>\n",
       "      <td>Male</td>\n",
       "    </tr>\n",
       "  </tbody>\n",
       "</table>\n",
       "</div>"
      ],
      "text/plain": [
       "       Name    State  Age  Weight (kg)  Gender\n",
       "0     Dauda     Ogun   30         70.5    Male\n",
       "1      Tayo     Osun   24         68.0    Male\n",
       "2       Ayo    Ekiti   40         61.0    Male\n",
       "3   Richard     Kogi   24         75.2    Male\n",
       "4    Nifemi     Ogun   25         60.0  Female\n",
       "5  Kingsley  Anambra   35         70.3    Male\n",
       "6  Benedict      Edo   32         74.0    Male\n",
       "7    Dahiru    Kwara   45         78.1    Male\n",
       "8      Oyin      Oyo   15         52.9  Female\n",
       "9    Oreofe     Ondo   28         72.7    Male"
      ]
     },
     "metadata": {},
     "output_type": "display_data"
    }
   ],
   "source": [
    "# Create a dictionary for the informations\n",
    "info_dict = {\n",
    "    \"Name\" : [\"Dauda\", \"Tayo\", \"Ayo\", \"Richard\", \"Nifemi\", \"Kingsley\", \"Benedict\", \"Dahiru\", \"Oyin\", \"Oreofe\"],\n",
    "    \"State\" : [\"Ogun\", \"Osun\", \"Ekiti\", \"Kogi\", \"Ogun\", \"Anambra\", \"Edo\", \"Kwara\", \"Oyo\", \"Ondo\"],\n",
    "    \"Age\" : [30, 24, 40, 24, 25, 35, 32, 45, 15, 28],\n",
    "    \"Weight (kg)\" : [70.5, 68, 61, 75.2, 60, 70.3, 74, 78.1, 52.9, 72.7],\n",
    "    \"Gender\" : [\"Male\", \"Male\", \"Male\", \"Male\", \"Female\", \"Male\", \"Male\", \"Male\", \"Female\", \"Male\"]\n",
    "}\n",
    "\n",
    "# Create the DataFrame\n",
    "df = pd.DataFrame(info_dict)\n",
    "\n",
    "display(df)"
   ]
  },
  {
   "cell_type": "markdown",
   "id": "aed04794-c062-486b-a7f8-f7c18f8ef43b",
   "metadata": {},
   "source": [
    "## **Question 4**\n",
    "For the above DataFrame, write code to print its shape, columns, and the data type of each column."
   ]
  },
  {
   "cell_type": "code",
   "execution_count": 74,
   "id": "17f0406d-cff9-4d77-920b-c4930af1df9e",
   "metadata": {},
   "outputs": [
    {
     "name": "stdout",
     "output_type": "stream",
     "text": [
      "Shape of the DataFrame: (10, 6)\n",
      "================================\n",
      "Columns in the DataFrame: Index(['Name', 'State', 'Age', 'Weight (kg)', 'Gender', 'Occupation'], dtype='object')\n",
      "================================\n",
      "Data types of each column:\n",
      "Name            object\n",
      "State           object\n",
      "Age              int64\n",
      "Weight (kg)    float64\n",
      "Gender          object\n",
      "Occupation      object\n",
      "dtype: object\n"
     ]
    }
   ],
   "source": [
    "# Print shape\n",
    "print(\"Shape of the DataFrame:\", df.shape)\n",
    "print(\"================================\")\n",
    "\n",
    "# Print columns\n",
    "print(\"Columns in the DataFrame:\", df.columns)\n",
    "print(\"================================\")\n",
    "\n",
    "# Print data types of each column\n",
    "print(\"Data types of each column:\")\n",
    "print(df.dtypes)"
   ]
  },
  {
   "cell_type": "markdown",
   "id": "279fa38d-00c6-4f56-9930-163bf6edd0dd",
   "metadata": {},
   "source": [
    "## **Question 5**\n",
    "\n",
    "Add a new column `occupation` to the DataFrame you created."
   ]
  },
  {
   "cell_type": "code",
   "execution_count": 70,
   "id": "e6686fd0-fee7-43aa-ad06-5e6daaa8a6e6",
   "metadata": {},
   "outputs": [
    {
     "data": {
      "text/html": [
       "<div>\n",
       "<style scoped>\n",
       "    .dataframe tbody tr th:only-of-type {\n",
       "        vertical-align: middle;\n",
       "    }\n",
       "\n",
       "    .dataframe tbody tr th {\n",
       "        vertical-align: top;\n",
       "    }\n",
       "\n",
       "    .dataframe thead th {\n",
       "        text-align: right;\n",
       "    }\n",
       "</style>\n",
       "<table border=\"1\" class=\"dataframe\">\n",
       "  <thead>\n",
       "    <tr style=\"text-align: right;\">\n",
       "      <th></th>\n",
       "      <th>Name</th>\n",
       "      <th>State</th>\n",
       "      <th>Age</th>\n",
       "      <th>Weight (kg)</th>\n",
       "      <th>Gender</th>\n",
       "      <th>Occupation</th>\n",
       "    </tr>\n",
       "  </thead>\n",
       "  <tbody>\n",
       "    <tr>\n",
       "      <th>0</th>\n",
       "      <td>Dauda</td>\n",
       "      <td>Ogun</td>\n",
       "      <td>30</td>\n",
       "      <td>70.5</td>\n",
       "      <td>Male</td>\n",
       "      <td>Software Enginner</td>\n",
       "    </tr>\n",
       "    <tr>\n",
       "      <th>1</th>\n",
       "      <td>Tayo</td>\n",
       "      <td>Osun</td>\n",
       "      <td>24</td>\n",
       "      <td>68.0</td>\n",
       "      <td>Male</td>\n",
       "      <td>Data Annotator</td>\n",
       "    </tr>\n",
       "    <tr>\n",
       "      <th>2</th>\n",
       "      <td>Ayo</td>\n",
       "      <td>Ekiti</td>\n",
       "      <td>40</td>\n",
       "      <td>61.0</td>\n",
       "      <td>Male</td>\n",
       "      <td>Educator</td>\n",
       "    </tr>\n",
       "    <tr>\n",
       "      <th>3</th>\n",
       "      <td>Richard</td>\n",
       "      <td>Kogi</td>\n",
       "      <td>24</td>\n",
       "      <td>75.2</td>\n",
       "      <td>Male</td>\n",
       "      <td>Trader</td>\n",
       "    </tr>\n",
       "    <tr>\n",
       "      <th>4</th>\n",
       "      <td>Nifemi</td>\n",
       "      <td>Ogun</td>\n",
       "      <td>25</td>\n",
       "      <td>60.0</td>\n",
       "      <td>Female</td>\n",
       "      <td>Beautician</td>\n",
       "    </tr>\n",
       "    <tr>\n",
       "      <th>5</th>\n",
       "      <td>Kingsley</td>\n",
       "      <td>Anambra</td>\n",
       "      <td>35</td>\n",
       "      <td>70.3</td>\n",
       "      <td>Male</td>\n",
       "      <td>Trader</td>\n",
       "    </tr>\n",
       "    <tr>\n",
       "      <th>6</th>\n",
       "      <td>Benedict</td>\n",
       "      <td>Edo</td>\n",
       "      <td>32</td>\n",
       "      <td>74.0</td>\n",
       "      <td>Male</td>\n",
       "      <td>Engineer</td>\n",
       "    </tr>\n",
       "    <tr>\n",
       "      <th>7</th>\n",
       "      <td>Dahiru</td>\n",
       "      <td>Kwara</td>\n",
       "      <td>45</td>\n",
       "      <td>78.1</td>\n",
       "      <td>Male</td>\n",
       "      <td>Hotelier</td>\n",
       "    </tr>\n",
       "    <tr>\n",
       "      <th>8</th>\n",
       "      <td>Oyin</td>\n",
       "      <td>Oyo</td>\n",
       "      <td>15</td>\n",
       "      <td>52.9</td>\n",
       "      <td>Female</td>\n",
       "      <td>Artist</td>\n",
       "    </tr>\n",
       "    <tr>\n",
       "      <th>9</th>\n",
       "      <td>Oreofe</td>\n",
       "      <td>Ondo</td>\n",
       "      <td>28</td>\n",
       "      <td>72.7</td>\n",
       "      <td>Male</td>\n",
       "      <td>Digtal Marketer</td>\n",
       "    </tr>\n",
       "  </tbody>\n",
       "</table>\n",
       "</div>"
      ],
      "text/plain": [
       "       Name    State  Age  Weight (kg)  Gender         Occupation\n",
       "0     Dauda     Ogun   30         70.5    Male  Software Enginner\n",
       "1      Tayo     Osun   24         68.0    Male     Data Annotator\n",
       "2       Ayo    Ekiti   40         61.0    Male           Educator\n",
       "3   Richard     Kogi   24         75.2    Male             Trader\n",
       "4    Nifemi     Ogun   25         60.0  Female         Beautician\n",
       "5  Kingsley  Anambra   35         70.3    Male             Trader\n",
       "6  Benedict      Edo   32         74.0    Male           Engineer\n",
       "7    Dahiru    Kwara   45         78.1    Male           Hotelier\n",
       "8      Oyin      Oyo   15         52.9  Female             Artist\n",
       "9    Oreofe     Ondo   28         72.7    Male    Digtal Marketer"
      ]
     },
     "metadata": {},
     "output_type": "display_data"
    }
   ],
   "source": [
    "# create and add a new column to df\n",
    "df['Occupation'] = [\"Software Enginner\", \"Data Annotator\", \"Educator\", \"Trader\", \"Beautician\", \"Trader\", \"Engineer\", \"Hotelier\", \"Artist\", \"Digtal Marketer\"]\n",
    "display(df)"
   ]
  },
  {
   "cell_type": "markdown",
   "id": "d41d1b9d-9631-41d6-87b7-b9701126424a",
   "metadata": {},
   "source": [
    "## **Question 6**\n",
    "\n",
    "Create two Series, `A` and `B`, containing the numbers 1 - 5 and 6 - 10 respectively. Compute the sum, difference ```(B-A)```, and product of `A` and `B`."
   ]
  },
  {
   "cell_type": "code",
   "execution_count": 69,
   "id": "3273f104-6a8c-46bc-b7c2-570e20b6d823",
   "metadata": {},
   "outputs": [
    {
     "name": "stdout",
     "output_type": "stream",
     "text": [
      "Sum(A+B):\n",
      "0     7\n",
      "1     9\n",
      "2    11\n",
      "3    13\n",
      "4    15\n",
      "dtype: int64\n",
      "=====================\n",
      "Difference(A-B):\n",
      "0   -5\n",
      "1   -5\n",
      "2   -5\n",
      "3   -5\n",
      "4   -5\n",
      "dtype: int64\n",
      "=====================\n",
      "Product(A*B):\n",
      "0     6\n",
      "1    14\n",
      "2    24\n",
      "3    36\n",
      "4    50\n",
      "dtype: int64\n"
     ]
    }
   ],
   "source": [
    "# Create two series A and B\n",
    "A = pd.Series([1, 2, 3, 4, 5])\n",
    "B = pd.Series([6, 7, 8, 9, 10])\n",
    "\n",
    "sum = A + B\n",
    "\n",
    "# Difference of A and B\n",
    "difference = A - B\n",
    "\n",
    "# Product of A and B\n",
    "product = A * B\n",
    "\n",
    "# Print the results\n",
    "print(\"Sum(A+B):\")\n",
    "print(sum)\n",
    "print(\"=====================\")\n",
    "print(\"Difference(A-B):\")\n",
    "print(difference)\n",
    "print(\"=====================\")\n",
    "print(\"Product(A*B):\") \n",
    "print(product)"
   ]
  },
  {
   "cell_type": "markdown",
   "id": "1550f173-6c17-4f35-a135-45a46bfad8c6",
   "metadata": {},
   "source": [
    "## **Question 7**\n",
    "\n",
    "Lists 10 attributes/methods of a Series (don't include the ones we talked about in class). _You can use the ```dir()``` function to get the attributes/methods_"
   ]
  },
  {
   "cell_type": "markdown",
   "id": "3f3d9f2b-874b-4d65-9e43-121a0192f662",
   "metadata": {},
   "source": [
    "#### 10 attributes/methods of a Series\n",
    "1. 'expanding'\n",
    "2. 'explode'\n",
    "3. 'factorize'\n",
    "4. 'first'\n",
    "5. 'first_valid_index'\n",
    "6. 'flags'\n",
    "7. 'floordiv'\n",
    "8. 'ge'\n",
    "9. 'groupby'\n",
    "10. 'gt'"
   ]
  },
  {
   "cell_type": "markdown",
   "id": "a3111a0a-3eea-4d2b-b35d-c902b2e54e84",
   "metadata": {},
   "source": [
    "## **Question 8**\n",
    "\n",
    "Lists 10 attributes/methods of a DataFrame (don't include the ones we talked about in class)."
   ]
  },
  {
   "cell_type": "markdown",
   "id": "9f3daffc-af87-48f8-8bcc-317f9074b0d2",
   "metadata": {},
   "source": [
    "#### 10 attributes/methods of a DataFrame\n",
    "1. 'to_xml'\n",
    "2. 'transform'\n",
    "3. 'transpose'\n",
    "4. 'truediv'\n",
    "5. 'truncate'\n",
    "6. 'tz_convert'\n",
    "7. 'tz_localize'\n",
    "8. 'unstack'\n",
    "9. 'update'\n",
    "10. '_agg_see_also_doc'"
   ]
  },
  {
   "cell_type": "markdown",
   "id": "713374a5-1002-4e95-b928-1e0b2c84b40b",
   "metadata": {},
   "source": [
    "## **Question 9**\n",
    "\n",
    "Highlight 3 differences between a `Series` and `DataFrame`"
   ]
  },
  {
   "cell_type": "markdown",
   "id": "87b862dd-cd55-4d05-8809-baf31f950781",
   "metadata": {},
   "source": [
    "#### 3 Differences between a Series and DataFrame\n",
    "\n",
    "1. A **Series** is a one-dimensional labelled array that can hold data of any type (e.g integers, strings, floats) while a **DataFrame** is a two-dimensional labelled data structure.\n",
    "2. A **Series** is size immutable while a **DataFrame** is a size-mutable data structure.\n",
    "3. A **Series** is typically used for representing a single column of data while a **DataFrame** is used for handling tabular data, combining multiple Series into a structured format."
   ]
  },
  {
   "cell_type": "markdown",
   "id": "e09ea445-8721-40c4-b505-4e3d58a57084",
   "metadata": {},
   "source": [
    "## **Question 10**\n",
    "List two key points you learnt in week 5 classes"
   ]
  },
  {
   "cell_type": "markdown",
   "id": "f0736e03-0c6d-49b3-98ac-a3cab1d90d31",
   "metadata": {},
   "source": [
    "1. I learnt about **Pandas** and the data structures\n",
    "2. I also learnt how to perform basic operations on **Series** and **DataFrames**."
   ]
  }
 ],
 "metadata": {
  "kernelspec": {
   "display_name": "Python 3 (ipykernel)",
   "language": "python",
   "name": "python3"
  },
  "language_info": {
   "codemirror_mode": {
    "name": "ipython",
    "version": 3
   },
   "file_extension": ".py",
   "mimetype": "text/x-python",
   "name": "python",
   "nbconvert_exporter": "python",
   "pygments_lexer": "ipython3",
   "version": "3.12.4"
  }
 },
 "nbformat": 4,
 "nbformat_minor": 5
}
