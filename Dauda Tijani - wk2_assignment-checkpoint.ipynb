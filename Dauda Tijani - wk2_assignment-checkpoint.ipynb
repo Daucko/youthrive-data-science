{
 "cells": [
  {
   "cell_type": "markdown",
   "id": "0c36fbcb-a561-4530-89b8-7e1b036695ea",
   "metadata": {},
   "source": [
    "# Assignment - Week 2\n",
    "\n",
    "**_NOTE: USE COMMENTS IN YOUR CODE_**"
   ]
  },
  {
   "cell_type": "markdown",
   "id": "4f8e89b4-118b-4c24-9cf5-4f272bd5972c",
   "metadata": {},
   "source": [
    "## Question 1\n",
    "1a) Given the variables `name = \"Alice\"` and `age = 30`, use old-style `%` formatting to construct and print the sentence: `\"Alice is 30 years old.\"`\n",
    "\n",
    "1b) You have the variables `item = \"coffee\"` and `price = 2.5`. Use the `str.format()` method to format and print the string: `\"The price of coffee is 2.5 dollars.\"` Ensure the item name and price are dynamically inserted into the string.\n",
    "\n",
    " 1c) With the variables `planet = \"Mars\"` and `distance = 54.6`, use an f-string to print the following statement: `\"Mars is 54.6 million kilometers away from Earth.\"` Embed the variables directly into the string.\n"
   ]
  },
  {
   "cell_type": "code",
   "execution_count": 43,
   "id": "8385c13a-a9e7-4721-8c23-141e2a42d129",
   "metadata": {},
   "outputs": [
    {
     "name": "stdout",
     "output_type": "stream",
     "text": [
      "Alice is 30 years old.\n"
     ]
    }
   ],
   "source": [
    "# 1a Solution: Printing use % formatting method\n",
    "\n",
    "name = \"Alice\"\n",
    "age = 30\n",
    "print(\"%s is %d years old.\" %(name, age) )"
   ]
  },
  {
   "cell_type": "code",
   "execution_count": 11,
   "id": "b26185bc-e6db-4845-8583-f9d097fc3d09",
   "metadata": {},
   "outputs": [
    {
     "name": "stdout",
     "output_type": "stream",
     "text": [
      "The price of coffee is 2.5 dollars.\n"
     ]
    }
   ],
   "source": [
    "# 1b Solution: Printing using str.format() method\n",
    "\n",
    "item = \"coffee\"\n",
    "price = 2.5\n",
    "print(\"The price of {} is {} dollars.\".format(item, price))"
   ]
  },
  {
   "cell_type": "code",
   "execution_count": 12,
   "id": "83992830-fde0-4b12-b60e-5ec03e6839cd",
   "metadata": {},
   "outputs": [
    {
     "name": "stdout",
     "output_type": "stream",
     "text": [
      "Mars is 54.6 million kilometers away from Earth.\n"
     ]
    }
   ],
   "source": [
    "# 1c Solution: Printing using f-string method\n",
    "\n",
    "planet = \"Mars\"\n",
    "distance = 54.6\n",
    "print(f\"{planet} is {distance} million kilometers away from Earth.\")\n"
   ]
  },
  {
   "cell_type": "markdown",
   "id": "5505ab94-7105-4b57-9f07-b4d52e2f3f0d",
   "metadata": {
    "jp-MarkdownHeadingCollapsed": true
   },
   "source": [
    "## Question 2\n",
    "Given two variables `a = 10` and `b = 20`, use a comparison operator to check if `a` is less than `b` and print the result."
   ]
  },
  {
   "cell_type": "code",
   "execution_count": 14,
   "id": "0bc4c9b9-8235-4853-8add-44614b7622ef",
   "metadata": {},
   "outputs": [
    {
     "name": "stdout",
     "output_type": "stream",
     "text": [
      "True\n"
     ]
    }
   ],
   "source": [
    "# Using Comparism Operator '<' \n",
    "a = 10\n",
    "b = 20\n",
    "print( a < b )"
   ]
  },
  {
   "cell_type": "markdown",
   "id": "da64a520-482b-418a-80be-8740ab784411",
   "metadata": {
    "jp-MarkdownHeadingCollapsed": true
   },
   "source": [
    "## Question 3\n",
    "Create a list `colors = ['red', 'blue', 'green']` and use a membership operator to check if `'yellow'` is in `colors`. Print `True` if it is, and `False` otherwise."
   ]
  },
  {
   "cell_type": "code",
   "execution_count": 37,
   "id": "68afd7e2-f801-4ae4-9708-f936faf3b05c",
   "metadata": {},
   "outputs": [
    {
     "name": "stdout",
     "output_type": "stream",
     "text": [
      "False\n"
     ]
    }
   ],
   "source": [
    "# Using Membership Operator 'in'\n",
    "colors = [\"red\", \"blue\", \"green\"]\n",
    "\n",
    "if \"yellow\" in colors:\n",
    "    print(\"True\")\n",
    "else:\n",
    "    print(\"False\")"
   ]
  },
  {
   "cell_type": "markdown",
   "id": "ba60ac06-e524-4fc6-96ab-fdc16ca5bb5c",
   "metadata": {
    "jp-MarkdownHeadingCollapsed": true
   },
   "source": [
    "## Question 4\n",
    "Using the variables `x = 5` and `y = 10`, write a Python expression using logical operators that checks whether `x` is less than `y` and `x` is not equal to `y`. Print the result."
   ]
  },
  {
   "cell_type": "code",
   "execution_count": 19,
   "id": "1afe454e-9d92-4721-89b1-c939c4ba26d0",
   "metadata": {},
   "outputs": [
    {
     "name": "stdout",
     "output_type": "stream",
     "text": [
      "True\n"
     ]
    }
   ],
   "source": [
    "# Using Logical Operators 'and' \n",
    "x = 5\n",
    "y = 10\n",
    "print(x < y and x != y)\n"
   ]
  },
  {
   "cell_type": "markdown",
   "id": "d6f66ee5-624d-42f3-b942-bcc06af9bf9c",
   "metadata": {
    "jp-MarkdownHeadingCollapsed": true
   },
   "source": [
    "## Question 5\n",
    "Take a variable `count = 5`. Use a compound assignment operator to double its value and then decrement it by `2`. Print the final value of `count`.\n"
   ]
  },
  {
   "cell_type": "code",
   "execution_count": 42,
   "id": "3843e247-127d-40e6-b43d-5569fb4dfc53",
   "metadata": {},
   "outputs": [
    {
     "name": "stdout",
     "output_type": "stream",
     "text": [
      "8\n"
     ]
    }
   ],
   "source": [
    "# Using Compound Assignment Operator '*=' and '-+'\n",
    "count = 5\n",
    "count *= 2\n",
    "count -= 2\n",
    "print(count)"
   ]
  },
  {
   "cell_type": "markdown",
   "id": "195cd484-bad0-4b65-82d1-ca6d475f275b",
   "metadata": {
    "jp-MarkdownHeadingCollapsed": true
   },
   "source": [
    "## Question 6\n",
    "Suppose `mood = \"happy\"`, use logical operators to print `\"Mood is positive\"` if mood is either `\"happy\"` or `\"excited\"`."
   ]
  },
  {
   "cell_type": "code",
   "execution_count": 39,
   "id": "c4496d2e-3d35-483b-a2df-c660d94df65d",
   "metadata": {},
   "outputs": [
    {
     "name": "stdout",
     "output_type": "stream",
     "text": [
      "Mood is positive\n"
     ]
    }
   ],
   "source": [
    "# Using Logical Operator 'or'\n",
    "mood = \"happy\"\n",
    "if mood == \"happy\" or \"excited\":\n",
    "    print(\"Mood is positive\")"
   ]
  },
  {
   "cell_type": "markdown",
   "id": "3b81efbe-8bfb-40eb-b1f0-537b15b3895b",
   "metadata": {
    "jp-MarkdownHeadingCollapsed": true
   },
   "source": [
    "## Question 7\n",
    "Take two variables `height = 180` and `weight = 75`. Use compound assignment operators to first add `5` to `height` and then subtract `10` from `weight`. Finally, check if `height` is greater than `170` and `weight` is less than `80` using logical operators, printing `\"Healthy\"` if both conditions are met."
   ]
  },
  {
   "cell_type": "code",
   "execution_count": 40,
   "id": "912b8e90-0696-47c5-a765-147dc9166d84",
   "metadata": {},
   "outputs": [
    {
     "name": "stdout",
     "output_type": "stream",
     "text": [
      "Healthy\n"
     ]
    }
   ],
   "source": [
    "# Using both Compound Assignment Operators '+=' and '-=' with Logical Operator 'and'\n",
    "height = 180\n",
    "weight = 75\n",
    "height += 5\n",
    "weight -= 10\n",
    "\n",
    "if height > 170 and weight < 80:\n",
    "    print(\"Healthy\")"
   ]
  },
  {
   "cell_type": "markdown",
   "id": "7a7ed385-5e14-4e7c-9eb2-d7595f9cf49d",
   "metadata": {
    "jp-MarkdownHeadingCollapsed": true
   },
   "source": [
    "## Question 8\n",
    "Given a list `fruits = ['apple', 'banana', 'cherry']`, use the `not` operator with a membership test to check if `'mango'` is not in `fruits`. Print `\"Mango not found\"` if true."
   ]
  },
  {
   "cell_type": "code",
   "execution_count": 24,
   "id": "30465ecb-da5a-41e0-9036-aefade667726",
   "metadata": {},
   "outputs": [
    {
     "name": "stdout",
     "output_type": "stream",
     "text": [
      "Mango not found\n"
     ]
    }
   ],
   "source": [
    "# Using Membership Operator 'not in'\n",
    "fruits = [\"apple\", \"banana\", \"cherry\"]\n",
    "if \"mango\" not in fruits:\n",
    "    print(\"Mango not found\")"
   ]
  },
  {
   "cell_type": "markdown",
   "id": "8b7a7287-0fe0-453d-83b9-fcaa2e05b443",
   "metadata": {
    "jp-MarkdownHeadingCollapsed": true
   },
   "source": [
    "## Question 9\n",
    "\n",
    "Check if the list below contains the following fruits (\"apple\", \"guava\", \"pawpaw\", \"avocado\") and if it does, print a statement indicating that the list contains the fruits. If it doesn't, add the fruit to the list and print the new fruit list and a statement that says the fruit has been added (hint: use the if-else statement). \\\n",
    "**NOTE**: Write a different if-else statement for each of the item in this list (\"apple\", \"guava\", \"pawpaw\", \"avocado\").\n",
    "\n",
    "```python\n",
    "fruit_list = [\"apple\", \"banana\", \"orange\", \"grape\", \"pineapple\", \"strawberry\", \"watermelon\", \"kiwi\", \"peach\", \"mango\", \"pear\", \"plum\", \"cherry\", \"blueberry\", \"raspberry\", \"lemon\", \"lime\", \"apricot\", \"coconut\", \"fig\"]\n",
    "```\n"
   ]
  },
  {
   "cell_type": "code",
   "execution_count": 32,
   "id": "a48646f0-c566-459a-8de4-f0eb7f6c1605",
   "metadata": {},
   "outputs": [
    {
     "name": "stdout",
     "output_type": "stream",
     "text": [
      "The fruit is in fruit_list\n",
      "=========================================================================================================================================\n",
      "['apple', 'banana', 'orange', 'grape', 'pineapple', 'strawberry', 'watermelon', 'kiwi', 'peach', 'mango', 'pear', 'plum', 'cherry', 'blueberry', 'raspberry', 'lemon', 'lime', 'apricot', 'coconut', 'fig', 'guava']\n",
      "guava has been added.\n",
      "=========================================================================================================================================\n",
      "['apple', 'banana', 'orange', 'grape', 'pineapple', 'strawberry', 'watermelon', 'kiwi', 'peach', 'mango', 'pear', 'plum', 'cherry', 'blueberry', 'raspberry', 'lemon', 'lime', 'apricot', 'coconut', 'fig', 'guava', 'pawpaw']\n",
      "pawpaw has been added.\n",
      "=========================================================================================================================================\n",
      "['apple', 'banana', 'orange', 'grape', 'pineapple', 'strawberry', 'watermelon', 'kiwi', 'peach', 'mango', 'pear', 'plum', 'cherry', 'blueberry', 'raspberry', 'lemon', 'lime', 'apricot', 'coconut', 'fig', 'guava', 'pawpaw', 'avocado']\n",
      "avocado has been added.\n"
     ]
    }
   ],
   "source": [
    "fruit_list = [\"apple\", \"banana\", \"orange\", \"grape\", \"pineapple\", \"strawberry\", \"watermelon\", \"kiwi\", \"peach\", \"mango\", \"pear\",\n",
    "              \"plum\", \"cherry\", \"blueberry\", \"raspberry\", \"lemon\", \"lime\", \"apricot\", \"coconut\", \"fig\"]\n",
    "other_fruits = [\"apple\", \"guava\", \"pawpaw\", \"avocado\"]\n",
    "\n",
    "# Check if \"apple\" is in fruit_list\n",
    "if other_fruits[0] in fruit_list:\n",
    "    print(\"The fruit is in fruit_list\")\n",
    "    print(\"=========================================================================================================================================\")\n",
    "else:\n",
    "    fruit_list.append(other_fruits[0]) \n",
    "    print(fruit_list)\n",
    "    print(f\"{other_fruits[0]} has been added.\")\n",
    "    print(\"=========================================================================================================================================\")\n",
    "\n",
    "# Check if \"guava\" is in fruit_list\n",
    "if other_fruits[1] in fruit_list:\n",
    "    print(\"The fruit is in fruit_list\")\n",
    "    print(\"=========================================================================================================================================\")\n",
    "else:\n",
    "    fruit_list.append(other_fruits[1]) \n",
    "    print(fruit_list)\n",
    "    print(f\"{other_fruits[1]} has been added.\")\n",
    "    print(\"=========================================================================================================================================\")\n",
    "\n",
    "# Check if \"pawpaw\" is in fruit_list\n",
    "if other_fruits[2] in fruit_list:\n",
    "    print(\"The fruit is in fruit_list\")\n",
    "    print(\"=========================================================================================================================================\")\n",
    "else:\n",
    "    fruit_list.append(other_fruits[2]) \n",
    "    print(fruit_list)\n",
    "    print(f\"{other_fruits[2]} has been added.\")\n",
    "    print(\"=========================================================================================================================================\")\n",
    "\n",
    "# Check if \"avocado\" is in fruit_list\n",
    "if other_fruits[3] in fruit_list:\n",
    "    print(\"The fruit is in fruit_list\")\n",
    "    print(\"=========================================================================================================================================\")\n",
    "else:\n",
    "    fruit_list.append(other_fruits[3]) \n",
    "    print(fruit_list)\n",
    "    print(f\"{other_fruits[3]} has been added.\")"
   ]
  },
  {
   "cell_type": "markdown",
   "id": "9dd6a654-5797-4ed1-836d-6c32e006658a",
   "metadata": {
    "jp-MarkdownHeadingCollapsed": true
   },
   "source": [
    "## Question 10\n",
    "\n",
    "Write a Python program that takes the following student's exam score below and determines their grade based on the following criteria:\n",
    "\n",
    "```python\n",
    "student_a_score = 78\n",
    "student_b_score = 67\n",
    "student_c_score = 92\n",
    "```\n",
    "\n",
    "- If the score is between 90 and 100 (inclusive), print \"Grade: A\"\n",
    "- If the score is between 80 and 89 (inclusive), print \"Grade: B\"\n",
    "- If the score is between 70 and 79 (inclusive), print \"Grade: C\"\n",
    "- If the score is between 60 and 69 (inclusive), print \"Grade: D\"\n",
    "- If the score is below 60, print \"Grade: F\"\n",
    "\n",
    "Instructions:\n",
    "- Use an if-elif-else statement to determine the grade based on the score.\n",
    "- Make separate conditional statements for the three students\n",
    "- Print the corresponding grade message.\n",
    "\n",
    "**Hint: Use comparison and logical operators in your \"conditional statement\"**"
   ]
  },
  {
   "cell_type": "code",
   "execution_count": 41,
   "id": "2eed4379-59e8-4d8b-aeab-ee94b0185a0d",
   "metadata": {},
   "outputs": [
    {
     "name": "stdout",
     "output_type": "stream",
     "text": [
      "Grade: C\n",
      "Grade: D\n",
      "Grade: A\n"
     ]
    }
   ],
   "source": [
    "student_a_score = 78\n",
    "student_b_score = 67\n",
    "student_c_score = 92\n",
    "\n",
    "# Check the range of student_a_score against the grading system and assign a grade\n",
    "if student_a_score >= 90 and student_a_score <=100:\n",
    "    print(\"Grade: A\")\n",
    "elif student_a_score >= 80 and student_a_score <=89:\n",
    "    print(\"Grade: B\")\n",
    "elif student_a_score >= 70 and student_a_score <=79:\n",
    "    print(\"Grade: C\")\n",
    "elif student_a_score >= 60 and student_a_score <=69:\n",
    "    print(\"Grade: D\")\n",
    "else:\n",
    "    print(\"Grade: F\")\n",
    "\n",
    "# Check the range of student_b_score against the grading system and assign a grade\n",
    "if student_b_score >= 90 and student_b_score <=100:\n",
    "    print(\"Grade: A\")\n",
    "elif student_b_score >= 80 and student_b_score <=89:\n",
    "    print(\"Grade: B\")\n",
    "elif student_b_score >= 70 and student_b_score <=79:\n",
    "    print(\"Grade: C\")\n",
    "elif student_b_score >= 60 and student_b_score <=69:\n",
    "    print(\"Grade: D\")\n",
    "else:\n",
    "    print(\"Grade: F\")\n",
    "\n",
    "# Check the range of student_c_score against the grading system and assign a grade\n",
    "if student_c_score >= 90 and student_c_score <=100:\n",
    "    print(\"Grade: A\")\n",
    "elif student_c_score >= 80 and student_c_score <=89:\n",
    "    print(\"Grade: B\")\n",
    "elif student_c_score >= 70 and student_c_score <=79:\n",
    "    print(\"Grade: C\")\n",
    "elif student_c_score >= 60 and student_c_score <=69:\n",
    "    print(\"Grade: D\")\n",
    "else:\n",
    "    print(\"Grade: F\")\n"
   ]
  }
 ],
 "metadata": {
  "kernelspec": {
   "display_name": "Python 3 (ipykernel)",
   "language": "python",
   "name": "python3"
  },
  "language_info": {
   "codemirror_mode": {
    "name": "ipython",
    "version": 3
   },
   "file_extension": ".py",
   "mimetype": "text/x-python",
   "name": "python",
   "nbconvert_exporter": "python",
   "pygments_lexer": "ipython3",
   "version": "3.12.4"
  }
 },
 "nbformat": 4,
 "nbformat_minor": 5
}
