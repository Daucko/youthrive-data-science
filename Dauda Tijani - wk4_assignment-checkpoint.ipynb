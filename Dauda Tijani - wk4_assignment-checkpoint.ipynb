{
 "cells": [
  {
   "cell_type": "markdown",
   "id": "67f71dd5-99e2-4289-a095-c519cbf492b3",
   "metadata": {},
   "source": [
    "## **Assignment - Week 4**\n",
    "\n",
    "**Instructions:** \n",
    "- Answer each question on a separate cell, either in a markdown or code cell depending on the question.\n",
    "- Use comments in your code"
   ]
  },
  {
   "cell_type": "markdown",
   "id": "c6d0c80f-1482-4b67-876d-f73118427451",
   "metadata": {},
   "source": [
    "## **Question 1**\n",
    "Write a NumPy program that creates an array of 20 random integers between 10 and 50. Then, calculate the sum, mean, standard deviation, and variance of the elements in the array and print them each. \n"
   ]
  },
  {
   "cell_type": "markdown",
   "id": "a9fc4557-c675-415e-ba96-6b7de6c0e4df",
   "metadata": {},
   "source": [
    "#### Load in NumPy"
   ]
  },
  {
   "cell_type": "code",
   "execution_count": 1,
   "id": "4770a9b8-6f09-4050-bbfa-0d8313d997a5",
   "metadata": {},
   "outputs": [],
   "source": [
    "import numpy as np"
   ]
  },
  {
   "cell_type": "code",
   "execution_count": 63,
   "id": "3f1c9118-7236-4a96-ad84-eba95446d9a2",
   "metadata": {},
   "outputs": [
    {
     "name": "stdout",
     "output_type": "stream",
     "text": [
      "Array: [20 29 47 14 21 43 42 48 24 46 15 38 22 37 25 30 24 16 28 36]\n",
      "Sum: 605\n",
      "Mean: 30.25\n",
      "Standard Deviation: 10.848386976873567\n",
      "Variation: 117.6875\n"
     ]
    }
   ],
   "source": [
    "# Generate 20 random numbers between 10 and 50\n",
    "rand_arr = np.random.randint(10, 51, size=(20))\n",
    "\n",
    "# Sum of all the numbers\n",
    "arr_sum = np.sum(rand_arr)\n",
    "\n",
    "# Mean value\n",
    "arr_mean = np.mean(rand_arr)\n",
    "\n",
    "# Standard deviation\n",
    "arr_std = np.std(rand_arr)\n",
    "\n",
    "# Variance\n",
    "arr_var = np.var(rand_arr)\n",
    "\n",
    "# Print out each variable\n",
    "print(\"Array:\",rand_arr)\n",
    "print(\"Sum:\",arr_sum)\n",
    "print(\"Mean:\",arr_mean)\n",
    "print(\"Standard Deviation:\",arr_std)\n",
    "print(\"Variation:\",arr_var)"
   ]
  },
  {
   "cell_type": "markdown",
   "id": "fa9f442d-3496-44d3-aeac-d51c3825d189",
   "metadata": {},
   "source": [
    "## **Question 2**\n",
    "Create a 2D NumPy array with random values between 5 and 15 with a shape of (4, 4). Use NumPy to find the minimum and maximum values both column-wise and row-wise."
   ]
  },
  {
   "cell_type": "code",
   "execution_count": 36,
   "id": "aca1fbe0-411a-4ae8-84ce-86ab7d619d55",
   "metadata": {},
   "outputs": [
    {
     "name": "stdout",
     "output_type": "stream",
     "text": [
      "Array:\n",
      " [[12 14 12  7]\n",
      " [ 6 12  7  8]\n",
      " [14  9  5  6]\n",
      " [15  7 11  8]]\n",
      "Min values column-wise: [6 7 5 6]\n",
      "Max values column-wise: [15 14 12  8]\n",
      "Min values row-wise: [7 6 5 7]\n",
      "Max values row-wise: [14 12 14 15]\n"
     ]
    }
   ],
   "source": [
    "rand_arr2 = np.random.randint(5, 16, size=(4, 4))\n",
    "\n",
    "# Minimum value column-wise\n",
    "col_min = np.min(rand_arr2, axis=0)\n",
    "\n",
    "# Maximum value column-wise\n",
    "col_max = np.max(rand_arr2, axis=0)\n",
    "\n",
    "# Minimum value row-wise\n",
    "row_min = np.min(rand_arr2, axis=1)\n",
    "\n",
    "# Maximum value row-wise\n",
    "row_max = np.max(rand_arr2, axis=1)\n",
    "\n",
    "# Print the values\n",
    "print(\"Array:\\n\",rand_arr2)\n",
    "print(\"Min values column-wise:\",col_min)\n",
    "print(\"Max values column-wise:\",col_max)\n",
    "print(\"Min values row-wise:\",row_min)\n",
    "print(\"Max values row-wise:\",row_max)\n"
   ]
  },
  {
   "cell_type": "markdown",
   "id": "04f6b36c-ffdc-4ada-808b-a5b815e35fe0",
   "metadata": {},
   "source": [
    "## **Question 3**\n",
    "Given a 1D array below, reshape this array into a 2D array with 3 rows and 4 columns. Print the reshaped array.\n",
    "```python\n",
    "arr = np.array([1, 2, 3, 4, 5, 6, 7, 8, 9, 10, 11, 12])\n",
    "```"
   ]
  },
  {
   "cell_type": "code",
   "execution_count": 44,
   "id": "abd7eb04-6c1e-47d0-be86-56fcda6bf24a",
   "metadata": {},
   "outputs": [
    {
     "name": "stdout",
     "output_type": "stream",
     "text": [
      "Given array: [ 1  2  3  4  5  6  7  8  9 10 11 12]\n",
      "Reshaped array:\n",
      " [[ 1  2  3  4]\n",
      " [ 5  6  7  8]\n",
      " [ 9 10 11 12]]\n"
     ]
    }
   ],
   "source": [
    "arr = np.array([1, 2, 3, 4, 5, 6, 7, 8, 9, 10, 11, 12])\n",
    "\n",
    "# Reshape array\n",
    "reshaped_arr = arr.reshape(3,4)\n",
    "\n",
    "print(\"Given array:\",arr)\n",
    "print(\"Reshaped array:\\n\",reshaped_arr)"
   ]
  },
  {
   "cell_type": "markdown",
   "id": "461ef1bc-cb1d-47c7-b871-e9c1144b09a0",
   "metadata": {},
   "source": [
    "## **Question 4**\n",
    "Given a 2D array , resize this array to shape ```(3, 2)```. How does resizing differ from reshaping? Illustrate with the resulting array.\n",
    "```python\n",
    "arr = np.array([[1, 2, 3], [4, 5, 6]])\n",
    "```"
   ]
  },
  {
   "cell_type": "code",
   "execution_count": 103,
   "id": "481ce382-b96f-454f-9a45-ae40ea0ab750",
   "metadata": {},
   "outputs": [
    {
     "name": "stdout",
     "output_type": "stream",
     "text": [
      "Resized array:\n",
      " [[1 2]\n",
      " [3 4]\n",
      " [5 6]]\n",
      "Resized resulting array:\n",
      " [[1 2 3]\n",
      " [4 5 6]\n",
      " [1 2 3]\n",
      " [4 5 6]]\n",
      "Reshaped resulting array: [1 2 3 4 5 6]\n"
     ]
    },
    {
     "ename": "ValueError",
     "evalue": "cannot reshape array of size 6 into shape (4,4)",
     "output_type": "error",
     "traceback": [
      "\u001b[1;31m---------------------------------------------------------------------------\u001b[0m",
      "\u001b[1;31mValueError\u001b[0m                                Traceback (most recent call last)",
      "Cell \u001b[1;32mIn[103], line 18\u001b[0m\n\u001b[0;32m     15\u001b[0m \u001b[38;5;28mprint\u001b[39m(\u001b[38;5;124m\"\u001b[39m\u001b[38;5;124mReshaped resulting array:\u001b[39m\u001b[38;5;124m\"\u001b[39m, reshaped_arr)\n\u001b[0;32m     17\u001b[0m \u001b[38;5;66;03m# Reshaping beyond the resized_arr size(). This should result into an error message.\u001b[39;00m\n\u001b[1;32m---> 18\u001b[0m new_reshaped_arr \u001b[38;5;241m=\u001b[39m \u001b[43marr\u001b[49m\u001b[38;5;241;43m.\u001b[39;49m\u001b[43mreshape\u001b[49m\u001b[43m(\u001b[49m\u001b[38;5;241;43m4\u001b[39;49m\u001b[43m,\u001b[49m\u001b[43m \u001b[49m\u001b[38;5;241;43m4\u001b[39;49m\u001b[43m)\u001b[49m\n\u001b[0;32m     19\u001b[0m \u001b[38;5;28mprint\u001b[39m(new_reshaped_arr)\n",
      "\u001b[1;31mValueError\u001b[0m: cannot reshape array of size 6 into shape (4,4)"
     ]
    }
   ],
   "source": [
    "arr = np.array([[1, 2, 3], [4, 5, 6]])\n",
    "\n",
    "# resize array to shape (3, 2)\n",
    "resized_arr = np.resize(arr, (3,2))\n",
    "print(\"Resized array:\\n\",resized_arr)\n",
    "\n",
    "# resize() can perform the function of reshape() and vice versa. Just that resize() can go beyound the size of the array. \n",
    "# Resize to shape (4, 3), whose size() is more than the original array size().\n",
    "new_resized_arr = np.resize(resized_arr, (4, 3))\n",
    "print(\"Resized resulting array:\\n\", new_resized_arr)\n",
    "\n",
    "# Using reshape() to carry the function of resize() with resulting array size() more than the original array size() would lead to an error.\n",
    "# Reshaping within the resized_arr size()\n",
    "reshaped_arr = arr.reshape(6,)\n",
    "print(\"Reshaped resulting array:\", reshaped_arr)\n",
    "\n",
    "# Reshaping beyond the resized_arr size(). This should result into an error message.\n",
    "new_reshaped_arr = arr.reshape(4, 4)\n",
    "print(new_reshaped_arr)"
   ]
  },
  {
   "cell_type": "markdown",
   "id": "7936d086-14a1-489f-8487-da88cc62d43a",
   "metadata": {},
   "source": [
    "## **Question 5**\n",
    "Create a ```3x4``` array of random integers between 1 and 20. Transpose the array and print both the original and transposed arrays."
   ]
  },
  {
   "cell_type": "code",
   "execution_count": 71,
   "id": "5ca7e8ad-2f04-48ad-94d5-214c64fdcb8d",
   "metadata": {},
   "outputs": [
    {
     "name": "stdout",
     "output_type": "stream",
     "text": [
      "Original array:\n",
      " [[19 20  2  6]\n",
      " [ 5 12 12  8]\n",
      " [17  9 14  9]]\n",
      "Transposed array:\n",
      " [[19  5 17]\n",
      " [20 12  9]\n",
      " [ 2 12 14]\n",
      " [ 6  8  9]]\n"
     ]
    }
   ],
   "source": [
    "# Create a 3x4 array of random integers between 1 and 20\n",
    "array = np.random.randint(1, 21, size=(3, 4))\n",
    "\n",
    "# Transpose the array\n",
    "transposed_array = array.T\n",
    "\n",
    "# Print both the original and transposed arrays.\n",
    "print(\"Original array:\\n\", array)\n",
    "print(\"Transposed array:\\n\",transposed_array)\n"
   ]
  },
  {
   "cell_type": "markdown",
   "id": "e6955a8e-1c1d-4684-befd-53a4abf73e8e",
   "metadata": {},
   "source": [
    "## **Question 6**\n",
    "Given two 2D arrays below, concatenate these arrays along the rows ```(axis=0)``` and along the columns ```(axis=1)```. Print the results.\n",
    "```python\n",
    "arr1 = np.array([[1, 2], [3, 4]])\n",
    "arr2 = np.array([[5, 6], [7, 8]])\n",
    "```"
   ]
  },
  {
   "cell_type": "code",
   "execution_count": 75,
   "id": "7e9e9696-f58c-4fc8-b3a5-8ab05e7dd092",
   "metadata": {},
   "outputs": [
    {
     "name": "stdout",
     "output_type": "stream",
     "text": [
      "Row concatenation:\n",
      " [[1 2]\n",
      " [3 4]\n",
      " [5 6]\n",
      " [7 8]]\n",
      "Column concatenation:\n",
      " [[1 2 5 6]\n",
      " [3 4 7 8]]\n"
     ]
    }
   ],
   "source": [
    "arr1 = np.array([[1, 2], [3, 4]])\n",
    "arr2 = np.array([[5, 6], [7, 8]])\n",
    "\n",
    "# Concatenate along the rows\n",
    "row_concatenation = np.concatenate((arr1, arr2), axis=0)\n",
    "\n",
    "# Concatenate along the columns\n",
    "col_concatenation = np.concatenate((arr1, arr2), axis=1)\n",
    "\n",
    "# Print the results\n",
    "print(\"Row concatenation:\\n\", row_concatenation)\n",
    "print(\"Column concatenation:\\n\", col_concatenation)\n"
   ]
  },
  {
   "cell_type": "markdown",
   "id": "82b13bba-69e8-46c7-ae76-7fd6f8a3fa7d",
   "metadata": {},
   "source": [
    "## **Question 7**\n",
    "Create a 1D array of 12 elements. Split this array into 3 equal parts. Print each part."
   ]
  },
  {
   "cell_type": "code",
   "execution_count": 88,
   "id": "3ed2d80c-40d4-4026-ba16-f4e17f20a68d",
   "metadata": {},
   "outputs": [
    {
     "name": "stdout",
     "output_type": "stream",
     "text": [
      "First part: [1 2 3 4]\n",
      "Second part: [5 6 7 8]\n",
      "Third part: [ 9 10 11 12]\n"
     ]
    }
   ],
   "source": [
    "# Create a 1D array of 12 elements\n",
    "array = np.array([1, 2, 3, 4, 5, 6, 7, 8, 9, 10, 11, 12])\n",
    "\n",
    "# Split this array into 3 equal parts\n",
    "split_array = np.split(array, 3)\n",
    "\n",
    "# Print each part\n",
    "print(\"First part:\", split_array[0])\n",
    "print(\"Second part:\", split_array[1])\n",
    "print(\"Third part:\", split_array[2])"
   ]
  },
  {
   "cell_type": "markdown",
   "id": "a30a53e0-999d-4902-b4ad-ee6bd90fd91f",
   "metadata": {},
   "source": [
    "## **Question 8**\n",
    "Given a 3D array below, flatten this array into a 1D array. Print the result.\n",
    "```python\n",
    "arr = np.array([[[1, 2, 3], \n",
    "                 [4, 5, 6]],\n",
    "                \n",
    "                [[7, 8, 9], \n",
    "                 [10, 11, 12]]])\n",
    "```"
   ]
  },
  {
   "cell_type": "code",
   "execution_count": 90,
   "id": "ad4f1ce7-ea44-40f7-89f8-469e287d06a7",
   "metadata": {},
   "outputs": [
    {
     "name": "stdout",
     "output_type": "stream",
     "text": [
      "Flattened array: [ 1  2  3  4  5  6  7  8  9 10 11 12]\n"
     ]
    }
   ],
   "source": [
    "arr = np.array([[[1, 2, 3], \n",
    "                 [4, 5, 6]],\n",
    "                \n",
    "                [[7, 8, 9], \n",
    "                 [10, 11, 12]]])\n",
    "\n",
    "# flatten this array into a 1D array\n",
    "flattened_arr = arr.flatten()\n",
    "\n",
    "# Print the result\n",
    "print(\"Flattened array:\", flattened_arr)"
   ]
  },
  {
   "cell_type": "markdown",
   "id": "24793e19-974b-4182-8121-78429a91a3dd",
   "metadata": {},
   "source": [
    "## **Question 9**\n",
    "Given two 1D arrays below, stack these arrays vertically and horizontally. Print the results.\n",
    "```python\n",
    " a = np.array([1, 2, 3])\n",
    " b = np.array([4, 5, 6])\n",
    " ```"
   ]
  },
  {
   "cell_type": "code",
   "execution_count": 51,
   "id": "0c38e158-811e-4ba2-af9f-2b98fc7c64d2",
   "metadata": {},
   "outputs": [
    {
     "name": "stdout",
     "output_type": "stream",
     "text": [
      "Vertically stacked arrays:\n",
      " [[1 2 3]\n",
      " [4 5 6]]\n",
      "Horizontally stacked arrays: [1 2 3 4 5 6]\n"
     ]
    }
   ],
   "source": [
    "a = np.array([1, 2, 3])\n",
    "b = np.array([4, 5, 6])\n",
    "\n",
    "# Stack arrays vertically\n",
    "v_stack = np.vstack((a, b))\n",
    "\n",
    "# Stack arrays horizontally\n",
    "h_stack = np.hstack((a, b))\n",
    "\n",
    "# Print stacked arrays\n",
    "print(\"Vertically stacked arrays:\\n\",v_stack)\n",
    "print(\"Horizontally stacked arrays:\",h_stack)"
   ]
  },
  {
   "cell_type": "markdown",
   "id": "303d6efe-da86-4c14-8f09-7ea654369002",
   "metadata": {},
   "source": [
    "## **Question 10**\n",
    "Create a 2D array of shape ```(3, 3)``` with all elements equal to 1. Add a 1D array of shape (3,) with elements ```[1, 2, 3]``` to this 2D array using broadcasting. Print the result."
   ]
  },
  {
   "cell_type": "code",
   "execution_count": 65,
   "id": "0b8a0e7a-5816-4fa2-b1c9-7c213b0cd3cc",
   "metadata": {},
   "outputs": [
    {
     "name": "stdout",
     "output_type": "stream",
     "text": [
      "2D Array:\n",
      " [[1. 1. 1.]\n",
      " [1. 1. 1.]\n",
      " [1. 1. 1.]]\n",
      "1D Array: [1 2 3]\n",
      "Broadcasted array:\n",
      " [[2. 3. 4.]\n",
      " [2. 3. 4.]\n",
      " [2. 3. 4.]]\n"
     ]
    }
   ],
   "source": [
    "array_2d = np.ones((3, 3))\n",
    "array_2d\n",
    "array_1d = np.array([1,2,3])\n",
    "array_1d\n",
    "result = np.add(array_2d, array_1d)\n",
    "result = array_2d + array_1d\n",
    "\n",
    "# Print result\n",
    "print(\"2D Array:\\n\", array_2d)\n",
    "print(\"1D Array:\", array_1d)\n",
    "print(\"Broadcasted array:\\n\", result)"
   ]
  },
  {
   "cell_type": "code",
   "execution_count": null,
   "id": "116d3630-fce6-4303-b5f5-fcac534aa52e",
   "metadata": {},
   "outputs": [],
   "source": []
  }
 ],
 "metadata": {
  "kernelspec": {
   "display_name": "Python 3 (ipykernel)",
   "language": "python",
   "name": "python3"
  },
  "language_info": {
   "codemirror_mode": {
    "name": "ipython",
    "version": 3
   },
   "file_extension": ".py",
   "mimetype": "text/x-python",
   "name": "python",
   "nbconvert_exporter": "python",
   "pygments_lexer": "ipython3",
   "version": "3.12.4"
  }
 },
 "nbformat": 4,
 "nbformat_minor": 5
}
